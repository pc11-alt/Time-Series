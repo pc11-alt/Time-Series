{
 "cells": [
  {
   "cell_type": "code",
   "execution_count": 39,
   "metadata": {},
   "outputs": [],
   "source": [
    "import pandas as pd\n",
    "import numpy as np\n",
    "import matplotlib.pyplot as plt\n",
    "%matplotlib inline"
   ]
  },
  {
   "cell_type": "code",
   "execution_count": 62,
   "metadata": {},
   "outputs": [],
   "source": [
    "f_birth=pd.read_excel('D:/Day_total_female_birth.xlsx',index_col=[0],parse_dates=[0])"
   ]
  },
  {
   "cell_type": "code",
   "execution_count": 63,
   "metadata": {},
   "outputs": [
    {
     "data": {
      "text/html": [
       "<div>\n",
       "<style scoped>\n",
       "    .dataframe tbody tr th:only-of-type {\n",
       "        vertical-align: middle;\n",
       "    }\n",
       "\n",
       "    .dataframe tbody tr th {\n",
       "        vertical-align: top;\n",
       "    }\n",
       "\n",
       "    .dataframe thead th {\n",
       "        text-align: right;\n",
       "    }\n",
       "</style>\n",
       "<table border=\"1\" class=\"dataframe\">\n",
       "  <thead>\n",
       "    <tr style=\"text-align: right;\">\n",
       "      <th></th>\n",
       "      <th>births</th>\n",
       "    </tr>\n",
       "    <tr>\n",
       "      <th>date</th>\n",
       "      <th></th>\n",
       "    </tr>\n",
       "  </thead>\n",
       "  <tbody>\n",
       "    <tr>\n",
       "      <th>2015-01-01</th>\n",
       "      <td>8068</td>\n",
       "    </tr>\n",
       "    <tr>\n",
       "      <th>2015-01-02</th>\n",
       "      <td>10850</td>\n",
       "    </tr>\n",
       "    <tr>\n",
       "      <th>2015-01-03</th>\n",
       "      <td>8328</td>\n",
       "    </tr>\n",
       "    <tr>\n",
       "      <th>2015-01-04</th>\n",
       "      <td>7065</td>\n",
       "    </tr>\n",
       "    <tr>\n",
       "      <th>2015-01-05</th>\n",
       "      <td>11892</td>\n",
       "    </tr>\n",
       "  </tbody>\n",
       "</table>\n",
       "</div>"
      ],
      "text/plain": [
       "            births\n",
       "date              \n",
       "2015-01-01    8068\n",
       "2015-01-02   10850\n",
       "2015-01-03    8328\n",
       "2015-01-04    7065\n",
       "2015-01-05   11892"
      ]
     },
     "execution_count": 63,
     "metadata": {},
     "output_type": "execute_result"
    }
   ],
   "source": [
    "f_birth.head()"
   ]
  },
  {
   "cell_type": "code",
   "execution_count": 64,
   "metadata": {},
   "outputs": [
    {
     "data": {
      "text/plain": [
       "pandas.core.frame.DataFrame"
      ]
     },
     "execution_count": 64,
     "metadata": {},
     "output_type": "execute_result"
    }
   ],
   "source": [
    "type(f_birth)"
   ]
  },
  {
   "cell_type": "code",
   "execution_count": 65,
   "metadata": {},
   "outputs": [],
   "source": [
    "series_value=f_birth.values"
   ]
  },
  {
   "cell_type": "code",
   "execution_count": 66,
   "metadata": {},
   "outputs": [
    {
     "data": {
      "text/plain": [
       "array([[ 8068],\n",
       "       [10850],\n",
       "       [ 8328],\n",
       "       [ 7065],\n",
       "       [11892],\n",
       "       [12425],\n",
       "       [12141],\n",
       "       [12094],\n",
       "       [11868],\n",
       "       [ 8014],\n",
       "       [ 7172],\n",
       "       [11479],\n",
       "       [11924],\n",
       "       [12013],\n",
       "       [12339],\n",
       "       [11861],\n",
       "       [ 8280],\n",
       "       [ 7195],\n",
       "       [10602],\n",
       "       [12242],\n",
       "       [12086],\n",
       "       [11949],\n",
       "       [11910],\n",
       "       [ 8235],\n",
       "       [ 7186],\n",
       "       [11728],\n",
       "       [11882],\n",
       "       [11602],\n",
       "       [11967],\n",
       "       [11571],\n",
       "       [ 7987],\n",
       "       [ 7139],\n",
       "       [11480],\n",
       "       [12079],\n",
       "       [11924],\n",
       "       [11821],\n",
       "       [11656],\n",
       "       [ 8285],\n",
       "       [ 7265],\n",
       "       [11937],\n",
       "       [12291],\n",
       "       [11911],\n",
       "       [12285],\n",
       "       [11321],\n",
       "       [ 8390],\n",
       "       [ 7508],\n",
       "       [11038],\n",
       "       [11952],\n",
       "       [12061],\n",
       "       [11968],\n",
       "       [11864],\n",
       "       [ 8343],\n",
       "       [ 7254],\n",
       "       [11260],\n",
       "       [11941],\n",
       "       [11828],\n",
       "       [11672],\n",
       "       [11596],\n",
       "       [ 7989],\n",
       "       [ 7273],\n",
       "       [11609],\n",
       "       [12402],\n",
       "       [11927],\n",
       "       [11681],\n",
       "       [11612],\n",
       "       [ 7980],\n",
       "       [ 6929],\n",
       "       [11678],\n",
       "       [12282],\n",
       "       [11850],\n",
       "       [12042],\n",
       "       [10940],\n",
       "       [ 8217],\n",
       "       [ 7202],\n",
       "       [11537],\n",
       "       [12312],\n",
       "       [11807],\n",
       "       [11721],\n",
       "       [12040],\n",
       "       [ 8080],\n",
       "       [ 7171],\n",
       "       [11674],\n",
       "       [12333],\n",
       "       [11872],\n",
       "       [12065],\n",
       "       [11629],\n",
       "       [ 8071],\n",
       "       [ 7125],\n",
       "       [11500],\n",
       "       [12362],\n",
       "       [11596],\n",
       "       [12296],\n",
       "       [11234],\n",
       "       [ 7981],\n",
       "       [ 6821],\n",
       "       [11455],\n",
       "       [12334],\n",
       "       [11976],\n",
       "       [11874],\n",
       "       [11724],\n",
       "       [ 8092],\n",
       "       [ 7141],\n",
       "       [11503],\n",
       "       [12309],\n",
       "       [11794],\n",
       "       [11947],\n",
       "       [11718],\n",
       "       [ 8028],\n",
       "       [ 7180],\n",
       "       [11513],\n",
       "       [12173],\n",
       "       [11917],\n",
       "       [11877],\n",
       "       [11749],\n",
       "       [ 8101],\n",
       "       [ 7178],\n",
       "       [11494],\n",
       "       [12221],\n",
       "       [11775],\n",
       "       [11831],\n",
       "       [12178],\n",
       "       [ 8075],\n",
       "       [ 7195],\n",
       "       [11724],\n",
       "       [12618],\n",
       "       [11924],\n",
       "       [11649],\n",
       "       [11810],\n",
       "       [ 8216],\n",
       "       [ 7246],\n",
       "       [11549],\n",
       "       [12400],\n",
       "       [11572],\n",
       "       [11793],\n",
       "       [12306],\n",
       "       [ 8337],\n",
       "       [ 7354],\n",
       "       [11708],\n",
       "       [12469],\n",
       "       [12352],\n",
       "       [12246],\n",
       "       [12147],\n",
       "       [ 8267],\n",
       "       [ 7261],\n",
       "       [ 7746],\n",
       "       [12242],\n",
       "       [12845],\n",
       "       [12722],\n",
       "       [12168],\n",
       "       [ 8431],\n",
       "       [ 7367],\n",
       "       [11793],\n",
       "       [11994],\n",
       "       [11890],\n",
       "       [11918],\n",
       "       [12303],\n",
       "       [ 8313],\n",
       "       [ 7230],\n",
       "       [11938],\n",
       "       [12479],\n",
       "       [12123],\n",
       "       [12029],\n",
       "       [12064],\n",
       "       [ 8104],\n",
       "       [ 7292],\n",
       "       [12348],\n",
       "       [12400],\n",
       "       [12192],\n",
       "       [12323],\n",
       "       [11767],\n",
       "       [ 8451],\n",
       "       [ 7580],\n",
       "       [11883],\n",
       "       [12351],\n",
       "       [12292],\n",
       "       [12416],\n",
       "       [12152],\n",
       "       [ 8652],\n",
       "       [ 7371],\n",
       "       [11961],\n",
       "       [12932],\n",
       "       [13033],\n",
       "       [13038],\n",
       "       [10375],\n",
       "       [ 7944],\n",
       "       [ 7164],\n",
       "       [12088],\n",
       "       [13426],\n",
       "       [12788],\n",
       "       [12517],\n",
       "       [12396],\n",
       "       [ 8769],\n",
       "       [ 7591],\n",
       "       [11835],\n",
       "       [12862],\n",
       "       [12853],\n",
       "       [12502],\n",
       "       [12291],\n",
       "       [ 8546],\n",
       "       [ 7681],\n",
       "       [12424],\n",
       "       [13264],\n",
       "       [12519],\n",
       "       [12852],\n",
       "       [12612],\n",
       "       [ 8748],\n",
       "       [ 7836],\n",
       "       [12416],\n",
       "       [13240],\n",
       "       [12739],\n",
       "       [12797],\n",
       "       [12269],\n",
       "       [ 8851],\n",
       "       [ 7907],\n",
       "       [12449],\n",
       "       [13149],\n",
       "       [12793],\n",
       "       [12872],\n",
       "       [12770],\n",
       "       [ 8956],\n",
       "       [ 7726],\n",
       "       [12333],\n",
       "       [13010],\n",
       "       [12960],\n",
       "       [12591],\n",
       "       [12861],\n",
       "       [ 8938],\n",
       "       [ 7896],\n",
       "       [12337],\n",
       "       [13197],\n",
       "       [12966],\n",
       "       [13002],\n",
       "       [12834],\n",
       "       [ 9153],\n",
       "       [ 7821],\n",
       "       [12274],\n",
       "       [13149],\n",
       "       [12729],\n",
       "       [12829],\n",
       "       [12719],\n",
       "       [ 8772],\n",
       "       [ 7805],\n",
       "       [12142],\n",
       "       [13231],\n",
       "       [12799],\n",
       "       [12839],\n",
       "       [12862],\n",
       "       [ 8950],\n",
       "       [ 7778],\n",
       "       [ 8127],\n",
       "       [12823],\n",
       "       [13949],\n",
       "       [13925],\n",
       "       [12295],\n",
       "       [ 9062],\n",
       "       [ 7900],\n",
       "       [12699],\n",
       "       [13439],\n",
       "       [13136],\n",
       "       [13319],\n",
       "       [13229],\n",
       "       [ 9195],\n",
       "       [ 8078],\n",
       "       [12567],\n",
       "       [13047],\n",
       "       [12595],\n",
       "       [12942],\n",
       "       [12792],\n",
       "       [ 8927],\n",
       "       [ 7778],\n",
       "       [12158],\n",
       "       [12791],\n",
       "       [12284],\n",
       "       [13043],\n",
       "       [12399],\n",
       "       [ 8579],\n",
       "       [ 7530],\n",
       "       [12166],\n",
       "       [12520],\n",
       "       [12429],\n",
       "       [12458],\n",
       "       [12282],\n",
       "       [ 8550],\n",
       "       [ 7571],\n",
       "       [11633],\n",
       "       [12094],\n",
       "       [12205],\n",
       "       [12522],\n",
       "       [11917],\n",
       "       [ 8233],\n",
       "       [ 7211],\n",
       "       [11388],\n",
       "       [12500],\n",
       "       [12093],\n",
       "       [12013],\n",
       "       [11942],\n",
       "       [ 8239],\n",
       "       [ 7288],\n",
       "       [11923],\n",
       "       [12485],\n",
       "       [12266],\n",
       "       [11950],\n",
       "       [11529],\n",
       "       [ 8049],\n",
       "       [ 7731],\n",
       "       [12236],\n",
       "       [12524],\n",
       "       [12279],\n",
       "       [12452],\n",
       "       [11909],\n",
       "       [ 8517],\n",
       "       [ 7324],\n",
       "       [11688],\n",
       "       [12451],\n",
       "       [12311],\n",
       "       [12329],\n",
       "       [11643],\n",
       "       [ 8221],\n",
       "       [ 7378],\n",
       "       [11791],\n",
       "       [12321],\n",
       "       [12230],\n",
       "       [12504],\n",
       "       [12495],\n",
       "       [ 8392],\n",
       "       [ 7427],\n",
       "       [12419],\n",
       "       [13051],\n",
       "       [11745],\n",
       "       [ 7332],\n",
       "       [ 8942],\n",
       "       [ 7734],\n",
       "       [ 7230],\n",
       "       [12214],\n",
       "       [13185],\n",
       "       [12708],\n",
       "       [12281],\n",
       "       [11828],\n",
       "       [ 8262],\n",
       "       [ 7194],\n",
       "       [11567],\n",
       "       [12328],\n",
       "       [11857],\n",
       "       [12259],\n",
       "       [11406],\n",
       "       [ 8073],\n",
       "       [ 7262],\n",
       "       [11753],\n",
       "       [12437],\n",
       "       [12282],\n",
       "       [12339],\n",
       "       [12247],\n",
       "       [ 8368],\n",
       "       [ 7361],\n",
       "       [12692],\n",
       "       [13131],\n",
       "       [11595],\n",
       "       [ 8714],\n",
       "       [ 6515],\n",
       "       [ 7294],\n",
       "       [ 7518],\n",
       "       [13100],\n",
       "       [13458],\n",
       "       [13100],\n",
       "       [11608]], dtype=int64)"
      ]
     },
     "execution_count": 66,
     "metadata": {},
     "output_type": "execute_result"
    }
   ],
   "source": [
    "series_value"
   ]
  },
  {
   "cell_type": "code",
   "execution_count": 67,
   "metadata": {},
   "outputs": [
    {
     "data": {
      "text/plain": [
       "numpy.ndarray"
      ]
     },
     "execution_count": 67,
     "metadata": {},
     "output_type": "execute_result"
    }
   ],
   "source": [
    "type(series_value)"
   ]
  },
  {
   "cell_type": "code",
   "execution_count": 68,
   "metadata": {},
   "outputs": [
    {
     "data": {
      "text/plain": [
       "365"
      ]
     },
     "execution_count": 68,
     "metadata": {},
     "output_type": "execute_result"
    }
   ],
   "source": [
    "f_birth.size"
   ]
  },
  {
   "cell_type": "code",
   "execution_count": 69,
   "metadata": {},
   "outputs": [
    {
     "data": {
      "text/html": [
       "<div>\n",
       "<style scoped>\n",
       "    .dataframe tbody tr th:only-of-type {\n",
       "        vertical-align: middle;\n",
       "    }\n",
       "\n",
       "    .dataframe tbody tr th {\n",
       "        vertical-align: top;\n",
       "    }\n",
       "\n",
       "    .dataframe thead th {\n",
       "        text-align: right;\n",
       "    }\n",
       "</style>\n",
       "<table border=\"1\" class=\"dataframe\">\n",
       "  <thead>\n",
       "    <tr style=\"text-align: right;\">\n",
       "      <th></th>\n",
       "      <th>births</th>\n",
       "    </tr>\n",
       "    <tr>\n",
       "      <th>date</th>\n",
       "      <th></th>\n",
       "    </tr>\n",
       "  </thead>\n",
       "  <tbody>\n",
       "    <tr>\n",
       "      <th>2015-12-27</th>\n",
       "      <td>7518</td>\n",
       "    </tr>\n",
       "    <tr>\n",
       "      <th>2015-12-28</th>\n",
       "      <td>13100</td>\n",
       "    </tr>\n",
       "    <tr>\n",
       "      <th>2015-12-29</th>\n",
       "      <td>13458</td>\n",
       "    </tr>\n",
       "    <tr>\n",
       "      <th>2015-12-30</th>\n",
       "      <td>13100</td>\n",
       "    </tr>\n",
       "    <tr>\n",
       "      <th>2015-12-31</th>\n",
       "      <td>11608</td>\n",
       "    </tr>\n",
       "  </tbody>\n",
       "</table>\n",
       "</div>"
      ],
      "text/plain": [
       "            births\n",
       "date              \n",
       "2015-12-27    7518\n",
       "2015-12-28   13100\n",
       "2015-12-29   13458\n",
       "2015-12-30   13100\n",
       "2015-12-31   11608"
      ]
     },
     "execution_count": 69,
     "metadata": {},
     "output_type": "execute_result"
    }
   ],
   "source": [
    "f_birth.tail()"
   ]
  },
  {
   "cell_type": "code",
   "execution_count": 70,
   "metadata": {},
   "outputs": [
    {
     "data": {
      "text/html": [
       "<div>\n",
       "<style scoped>\n",
       "    .dataframe tbody tr th:only-of-type {\n",
       "        vertical-align: middle;\n",
       "    }\n",
       "\n",
       "    .dataframe tbody tr th {\n",
       "        vertical-align: top;\n",
       "    }\n",
       "\n",
       "    .dataframe thead th {\n",
       "        text-align: right;\n",
       "    }\n",
       "</style>\n",
       "<table border=\"1\" class=\"dataframe\">\n",
       "  <thead>\n",
       "    <tr style=\"text-align: right;\">\n",
       "      <th></th>\n",
       "      <th>births</th>\n",
       "    </tr>\n",
       "  </thead>\n",
       "  <tbody>\n",
       "    <tr>\n",
       "      <th>count</th>\n",
       "      <td>365.000000</td>\n",
       "    </tr>\n",
       "    <tr>\n",
       "      <th>mean</th>\n",
       "      <td>10899.991781</td>\n",
       "    </tr>\n",
       "    <tr>\n",
       "      <th>std</th>\n",
       "      <td>2076.683881</td>\n",
       "    </tr>\n",
       "    <tr>\n",
       "      <th>min</th>\n",
       "      <td>6515.000000</td>\n",
       "    </tr>\n",
       "    <tr>\n",
       "      <th>25%</th>\n",
       "      <td>8431.000000</td>\n",
       "    </tr>\n",
       "    <tr>\n",
       "      <th>50%</th>\n",
       "      <td>11883.000000</td>\n",
       "    </tr>\n",
       "    <tr>\n",
       "      <th>75%</th>\n",
       "      <td>12339.000000</td>\n",
       "    </tr>\n",
       "    <tr>\n",
       "      <th>max</th>\n",
       "      <td>13949.000000</td>\n",
       "    </tr>\n",
       "  </tbody>\n",
       "</table>\n",
       "</div>"
      ],
      "text/plain": [
       "             births\n",
       "count    365.000000\n",
       "mean   10899.991781\n",
       "std     2076.683881\n",
       "min     6515.000000\n",
       "25%     8431.000000\n",
       "50%    11883.000000\n",
       "75%    12339.000000\n",
       "max    13949.000000"
      ]
     },
     "execution_count": 70,
     "metadata": {},
     "output_type": "execute_result"
    }
   ],
   "source": [
    "f_birth.describe()"
   ]
  },
  {
   "cell_type": "code",
   "execution_count": 72,
   "metadata": {},
   "outputs": [],
   "source": [
    "f_birth=f_birth[0:365]"
   ]
  },
  {
   "cell_type": "code",
   "execution_count": 73,
   "metadata": {},
   "outputs": [
    {
     "data": {
      "text/html": [
       "<div>\n",
       "<style scoped>\n",
       "    .dataframe tbody tr th:only-of-type {\n",
       "        vertical-align: middle;\n",
       "    }\n",
       "\n",
       "    .dataframe tbody tr th {\n",
       "        vertical-align: top;\n",
       "    }\n",
       "\n",
       "    .dataframe thead th {\n",
       "        text-align: right;\n",
       "    }\n",
       "</style>\n",
       "<table border=\"1\" class=\"dataframe\">\n",
       "  <thead>\n",
       "    <tr style=\"text-align: right;\">\n",
       "      <th></th>\n",
       "      <th>births</th>\n",
       "    </tr>\n",
       "  </thead>\n",
       "  <tbody>\n",
       "    <tr>\n",
       "      <th>count</th>\n",
       "      <td>365.000000</td>\n",
       "    </tr>\n",
       "    <tr>\n",
       "      <th>mean</th>\n",
       "      <td>10899.991781</td>\n",
       "    </tr>\n",
       "    <tr>\n",
       "      <th>std</th>\n",
       "      <td>2076.683881</td>\n",
       "    </tr>\n",
       "    <tr>\n",
       "      <th>min</th>\n",
       "      <td>6515.000000</td>\n",
       "    </tr>\n",
       "    <tr>\n",
       "      <th>25%</th>\n",
       "      <td>8431.000000</td>\n",
       "    </tr>\n",
       "    <tr>\n",
       "      <th>50%</th>\n",
       "      <td>11883.000000</td>\n",
       "    </tr>\n",
       "    <tr>\n",
       "      <th>75%</th>\n",
       "      <td>12339.000000</td>\n",
       "    </tr>\n",
       "    <tr>\n",
       "      <th>max</th>\n",
       "      <td>13949.000000</td>\n",
       "    </tr>\n",
       "  </tbody>\n",
       "</table>\n",
       "</div>"
      ],
      "text/plain": [
       "             births\n",
       "count    365.000000\n",
       "mean   10899.991781\n",
       "std     2076.683881\n",
       "min     6515.000000\n",
       "25%     8431.000000\n",
       "50%    11883.000000\n",
       "75%    12339.000000\n",
       "max    13949.000000"
      ]
     },
     "execution_count": 73,
     "metadata": {},
     "output_type": "execute_result"
    }
   ],
   "source": [
    "f_birth.describe()"
   ]
  },
  {
   "cell_type": "code",
   "execution_count": 74,
   "metadata": {
    "scrolled": true
   },
   "outputs": [
    {
     "data": {
      "text/plain": [
       "<AxesSubplot:xlabel='date'>"
      ]
     },
     "execution_count": 74,
     "metadata": {},
     "output_type": "execute_result"
    },
    {
     "data": {
      "image/png": "[encoded data removed]",
      "text/plain": [
       "<Figure size 432x288 with 1 Axes>"
      ]
     },
     "metadata": {
      "needs_background": "light"
     },
     "output_type": "display_data"
    }
   ],
   "source": [
    "f_birth.plot()"
   ]
  },
  {
   "cell_type": "code",
   "execution_count": 78,
   "metadata": {},
   "outputs": [],
   "source": [
    "f_birth_mean = f_birth.rolling(window = 20).mean()"
   ]
  },
  {
   "cell_type": "code",
   "execution_count": 80,
   "metadata": {},
   "outputs": [
    {
     "data": {
      "text/plain": [
       "<AxesSubplot:xlabel='date'>"
      ]
     },
     "execution_count": 80,
     "metadata": {},
     "output_type": "execute_result"
    },
    {
     "data": {
      "image/png": "[encoded data removed]",
      "text/plain": [
       "<Figure size 432x288 with 1 Axes>"
      ]
     },
     "metadata": {
      "needs_background": "light"
     },
     "output_type": "display_data"
    },
    {
     "data": {
      "image/png": "[encoded data removed]",
      "text/plain": [
       "<Figure size 432x288 with 1 Axes>"
      ]
     },
     "metadata": {
      "needs_background": "light"
     },
     "output_type": "display_data"
    }
   ],
   "source": [
    "f_birth.plot()\n",
    "f_birth_mean.plot()"
   ]
  },
  {
   "cell_type": "code",
   "execution_count": 83,
   "metadata": {},
   "outputs": [],
   "source": [
    "value=pd.DataFrame(series_value)"
   ]
  },
  {
   "cell_type": "code",
   "execution_count": 84,
   "metadata": {},
   "outputs": [],
   "source": [
    "birth_df= pd.concat([value,value.shift(1)],axis=1)"
   ]
  },
  {
   "cell_type": "code",
   "execution_count": 85,
   "metadata": {},
   "outputs": [
    {
     "data": {
      "text/html": [
       "<div>\n",
       "<style scoped>\n",
       "    .dataframe tbody tr th:only-of-type {\n",
       "        vertical-align: middle;\n",
       "    }\n",
       "\n",
       "    .dataframe tbody tr th {\n",
       "        vertical-align: top;\n",
       "    }\n",
       "\n",
       "    .dataframe thead th {\n",
       "        text-align: right;\n",
       "    }\n",
       "</style>\n",
       "<table border=\"1\" class=\"dataframe\">\n",
       "  <thead>\n",
       "    <tr style=\"text-align: right;\">\n",
       "      <th></th>\n",
       "      <th>0</th>\n",
       "      <th>0</th>\n",
       "    </tr>\n",
       "  </thead>\n",
       "  <tbody>\n",
       "    <tr>\n",
       "      <th>0</th>\n",
       "      <td>8068</td>\n",
       "      <td>NaN</td>\n",
       "    </tr>\n",
       "    <tr>\n",
       "      <th>1</th>\n",
       "      <td>10850</td>\n",
       "      <td>8068.0</td>\n",
       "    </tr>\n",
       "    <tr>\n",
       "      <th>2</th>\n",
       "      <td>8328</td>\n",
       "      <td>10850.0</td>\n",
       "    </tr>\n",
       "    <tr>\n",
       "      <th>3</th>\n",
       "      <td>7065</td>\n",
       "      <td>8328.0</td>\n",
       "    </tr>\n",
       "    <tr>\n",
       "      <th>4</th>\n",
       "      <td>11892</td>\n",
       "      <td>7065.0</td>\n",
       "    </tr>\n",
       "  </tbody>\n",
       "</table>\n",
       "</div>"
      ],
      "text/plain": [
       "       0        0\n",
       "0   8068      NaN\n",
       "1  10850   8068.0\n",
       "2   8328  10850.0\n",
       "3   7065   8328.0\n",
       "4  11892   7065.0"
      ]
     },
     "execution_count": 85,
     "metadata": {},
     "output_type": "execute_result"
    }
   ],
   "source": [
    "birth_df.head()"
   ]
  },
  {
   "cell_type": "code",
   "execution_count": 111,
   "metadata": {},
   "outputs": [],
   "source": [
    "birth_df.columns= ['Actual_Birth','Forecast_Birth']"
   ]
  },
  {
   "cell_type": "code",
   "execution_count": 112,
   "metadata": {},
   "outputs": [
    {
     "data": {
      "text/html": [
       "<div>\n",
       "<style scoped>\n",
       "    .dataframe tbody tr th:only-of-type {\n",
       "        vertical-align: middle;\n",
       "    }\n",
       "\n",
       "    .dataframe tbody tr th {\n",
       "        vertical-align: top;\n",
       "    }\n",
       "\n",
       "    .dataframe thead th {\n",
       "        text-align: right;\n",
       "    }\n",
       "</style>\n",
       "<table border=\"1\" class=\"dataframe\">\n",
       "  <thead>\n",
       "    <tr style=\"text-align: right;\">\n",
       "      <th></th>\n",
       "      <th>Actual_Birth</th>\n",
       "      <th>Forecast_Birth</th>\n",
       "    </tr>\n",
       "  </thead>\n",
       "  <tbody>\n",
       "    <tr>\n",
       "      <th>360</th>\n",
       "      <td>7518</td>\n",
       "      <td>7294.0</td>\n",
       "    </tr>\n",
       "    <tr>\n",
       "      <th>361</th>\n",
       "      <td>13100</td>\n",
       "      <td>7518.0</td>\n",
       "    </tr>\n",
       "    <tr>\n",
       "      <th>362</th>\n",
       "      <td>13458</td>\n",
       "      <td>13100.0</td>\n",
       "    </tr>\n",
       "    <tr>\n",
       "      <th>363</th>\n",
       "      <td>13100</td>\n",
       "      <td>13458.0</td>\n",
       "    </tr>\n",
       "    <tr>\n",
       "      <th>364</th>\n",
       "      <td>11608</td>\n",
       "      <td>13100.0</td>\n",
       "    </tr>\n",
       "  </tbody>\n",
       "</table>\n",
       "</div>"
      ],
      "text/plain": [
       "     Actual_Birth  Forecast_Birth\n",
       "360          7518          7294.0\n",
       "361         13100          7518.0\n",
       "362         13458         13100.0\n",
       "363         13100         13458.0\n",
       "364         11608         13100.0"
      ]
     },
     "execution_count": 112,
     "metadata": {},
     "output_type": "execute_result"
    }
   ],
   "source": [
    "birth_df.tail()"
   ]
  },
  {
   "cell_type": "code",
   "execution_count": 113,
   "metadata": {},
   "outputs": [],
   "source": [
    "birth_test= birth_test[0:364]"
   ]
  },
  {
   "cell_type": "code",
   "execution_count": 114,
   "metadata": {},
   "outputs": [
    {
     "data": {
      "text/html": [
       "<div>\n",
       "<style scoped>\n",
       "    .dataframe tbody tr th:only-of-type {\n",
       "        vertical-align: middle;\n",
       "    }\n",
       "\n",
       "    .dataframe tbody tr th {\n",
       "        vertical-align: top;\n",
       "    }\n",
       "\n",
       "    .dataframe thead th {\n",
       "        text-align: right;\n",
       "    }\n",
       "</style>\n",
       "<table border=\"1\" class=\"dataframe\">\n",
       "  <thead>\n",
       "    <tr style=\"text-align: right;\">\n",
       "      <th></th>\n",
       "      <th>Actual_Birth</th>\n",
       "      <th>Forecast_Birth</th>\n",
       "    </tr>\n",
       "  </thead>\n",
       "  <tbody>\n",
       "    <tr>\n",
       "      <th>4</th>\n",
       "      <td>11892</td>\n",
       "      <td>7065.0</td>\n",
       "    </tr>\n",
       "    <tr>\n",
       "      <th>5</th>\n",
       "      <td>12425</td>\n",
       "      <td>11892.0</td>\n",
       "    </tr>\n",
       "    <tr>\n",
       "      <th>6</th>\n",
       "      <td>12141</td>\n",
       "      <td>12425.0</td>\n",
       "    </tr>\n",
       "    <tr>\n",
       "      <th>7</th>\n",
       "      <td>12094</td>\n",
       "      <td>12141.0</td>\n",
       "    </tr>\n",
       "    <tr>\n",
       "      <th>8</th>\n",
       "      <td>11868</td>\n",
       "      <td>12094.0</td>\n",
       "    </tr>\n",
       "  </tbody>\n",
       "</table>\n",
       "</div>"
      ],
      "text/plain": [
       "   Actual_Birth  Forecast_Birth\n",
       "4         11892          7065.0\n",
       "5         12425         11892.0\n",
       "6         12141         12425.0\n",
       "7         12094         12141.0\n",
       "8         11868         12094.0"
      ]
     },
     "execution_count": 114,
     "metadata": {},
     "output_type": "execute_result"
    }
   ],
   "source": [
    "birth_test.head()"
   ]
  },
  {
   "cell_type": "code",
   "execution_count": 115,
   "metadata": {},
   "outputs": [],
   "source": [
    "from sklearn.metrics import mean_squared_error\n",
    "import numpy as np"
   ]
  },
  {
   "cell_type": "code",
   "execution_count": 90,
   "metadata": {},
   "outputs": [],
   "source": [
    "birth_test=birth_df[1:]"
   ]
  },
  {
   "cell_type": "code",
   "execution_count": 116,
   "metadata": {},
   "outputs": [
    {
     "data": {
      "text/html": [
       "<div>\n",
       "<style scoped>\n",
       "    .dataframe tbody tr th:only-of-type {\n",
       "        vertical-align: middle;\n",
       "    }\n",
       "\n",
       "    .dataframe tbody tr th {\n",
       "        vertical-align: top;\n",
       "    }\n",
       "\n",
       "    .dataframe thead th {\n",
       "        text-align: right;\n",
       "    }\n",
       "</style>\n",
       "<table border=\"1\" class=\"dataframe\">\n",
       "  <thead>\n",
       "    <tr style=\"text-align: right;\">\n",
       "      <th></th>\n",
       "      <th>Actual_Birth</th>\n",
       "      <th>Forecast_Birth</th>\n",
       "    </tr>\n",
       "  </thead>\n",
       "  <tbody>\n",
       "    <tr>\n",
       "      <th>360</th>\n",
       "      <td>7518</td>\n",
       "      <td>7294.0</td>\n",
       "    </tr>\n",
       "    <tr>\n",
       "      <th>361</th>\n",
       "      <td>13100</td>\n",
       "      <td>7518.0</td>\n",
       "    </tr>\n",
       "    <tr>\n",
       "      <th>362</th>\n",
       "      <td>13458</td>\n",
       "      <td>13100.0</td>\n",
       "    </tr>\n",
       "    <tr>\n",
       "      <th>363</th>\n",
       "      <td>13100</td>\n",
       "      <td>13458.0</td>\n",
       "    </tr>\n",
       "    <tr>\n",
       "      <th>364</th>\n",
       "      <td>11608</td>\n",
       "      <td>13100.0</td>\n",
       "    </tr>\n",
       "  </tbody>\n",
       "</table>\n",
       "</div>"
      ],
      "text/plain": [
       "     Actual_Birth  Forecast_Birth\n",
       "360          7518          7294.0\n",
       "361         13100          7518.0\n",
       "362         13458         13100.0\n",
       "363         13100         13458.0\n",
       "364         11608         13100.0"
      ]
     },
     "execution_count": 116,
     "metadata": {},
     "output_type": "execute_result"
    }
   ],
   "source": [
    "birth_test.tail()"
   ]
  },
  {
   "cell_type": "code",
   "execution_count": 117,
   "metadata": {},
   "outputs": [],
   "source": [
    "birth_error= mean_squared_error(birth_test.Actual_Birth,birth_test.Forecast_Birth)"
   ]
  },
  {
   "cell_type": "code",
   "execution_count": 118,
   "metadata": {},
   "outputs": [
    {
     "data": {
      "text/plain": [
       "5161827.493074792"
      ]
     },
     "execution_count": 118,
     "metadata": {},
     "output_type": "execute_result"
    }
   ],
   "source": [
    "birth_error"
   ]
  },
  {
   "cell_type": "code",
   "execution_count": 119,
   "metadata": {},
   "outputs": [
    {
     "data": {
      "text/plain": [
       "2271.9655571937687"
      ]
     },
     "execution_count": 119,
     "metadata": {},
     "output_type": "execute_result"
    }
   ],
   "source": [
    "np.sqrt(birth_error)"
   ]
  },
  {
   "cell_type": "code",
   "execution_count": 120,
   "metadata": {},
   "outputs": [],
   "source": [
    "#Auto Regressive Integrated Moving Average"
   ]
  },
  {
   "cell_type": "code",
   "execution_count": 122,
   "metadata": {},
   "outputs": [],
   "source": [
    "from statsmodels.graphics.tsaplots import plot_acf, plot_pacf"
   ]
  },
  {
   "cell_type": "code",
   "execution_count": 123,
   "metadata": {},
   "outputs": [
    {
     "data": {
      "image/png": "[encoded data removed]",
      "text/plain": [
       "<Figure size 432x288 with 1 Axes>"
      ]
     },
     "execution_count": 123,
     "metadata": {},
     "output_type": "execute_result"
    },
    {
     "data": {
      "image/png": "[encoded data removed]",
      "text/plain": [
       "<Figure size 432x288 with 1 Axes>"
      ]
     },
     "metadata": {
      "needs_background": "light"
     },
     "output_type": "display_data"
    }
   ],
   "source": [
    "#plot_acf is to identify Parameter Q\n",
    "#ARIMA (p,d,q)\n",
    "\n",
    "plot_acf(f_birth)"
   ]
  },
  {
   "cell_type": "code",
   "execution_count": 125,
   "metadata": {},
   "outputs": [
    {
     "data": {
      "image/png": "[encoded data removed]",
      "text/plain": [
       "<Figure size 432x288 with 1 Axes>"
      ]
     },
     "execution_count": 125,
     "metadata": {},
     "output_type": "execute_result"
    },
    {
     "data": {
      "image/png": "[encoded data removed]",
      "text/plain": [
       "<Figure size 432x288 with 1 Axes>"
      ]
     },
     "metadata": {
      "needs_background": "light"
     },
     "output_type": "display_data"
    }
   ],
   "source": [
    "plot_pacf(f_birth)     #To identfy the value of P"
   ]
  },
  {
   "cell_type": "code",
   "execution_count": 126,
   "metadata": {},
   "outputs": [
    {
     "data": {
      "text/plain": [
       "365"
      ]
     },
     "execution_count": 126,
     "metadata": {},
     "output_type": "execute_result"
    }
   ],
   "source": [
    "# p=2,3  d=0, &q= 3,4\n",
    "f_birth.size"
   ]
  },
  {
   "cell_type": "code",
   "execution_count": 127,
   "metadata": {},
   "outputs": [],
   "source": [
    "birth_train= f_birth[0:330]\n",
    "birth_test= f_birth[330:365]"
   ]
  },
  {
   "cell_type": "code",
   "execution_count": 128,
   "metadata": {},
   "outputs": [
    {
     "data": {
      "text/plain": [
       "330"
      ]
     },
     "execution_count": 128,
     "metadata": {},
     "output_type": "execute_result"
    }
   ],
   "source": [
    "birth_train.size"
   ]
  },
  {
   "cell_type": "code",
   "execution_count": 129,
   "metadata": {},
   "outputs": [
    {
     "data": {
      "text/plain": [
       "35"
      ]
     },
     "execution_count": 129,
     "metadata": {},
     "output_type": "execute_result"
    }
   ],
   "source": [
    "birth_test.size"
   ]
  },
  {
   "cell_type": "code",
   "execution_count": 136,
   "metadata": {},
   "outputs": [],
   "source": [
    "from statsmodels.tsa.arima_model import ARIMA"
   ]
  },
  {
   "cell_type": "code",
   "execution_count": 139,
   "metadata": {},
   "outputs": [
    {
     "name": "stderr",
     "output_type": "stream",
     "text": [
      "C:\\Users\\user\\anaconda3\\lib\\site-packages\\statsmodels\\tsa\\arima_model.py:472: FutureWarning: \n",
      "statsmodels.tsa.arima_model.ARMA and statsmodels.tsa.arima_model.ARIMA have\n",
      "been deprecated in favor of statsmodels.tsa.arima.model.ARIMA (note the .\n",
      "between arima and model) and\n",
      "statsmodels.tsa.SARIMAX. These will be removed after the 0.12 release.\n",
      "\n",
      "statsmodels.tsa.arima.model.ARIMA makes use of the statespace framework and\n",
      "is both well tested and maintained.\n",
      "\n",
      "To silence this warning and continue using ARMA and ARIMA until they are\n",
      "removed, use:\n",
      "\n",
      "import warnings\n",
      "warnings.filterwarnings('ignore', 'statsmodels.tsa.arima_model.ARMA',\n",
      "                        FutureWarning)\n",
      "warnings.filterwarnings('ignore', 'statsmodels.tsa.arima_model.ARIMA',\n",
      "                        FutureWarning)\n",
      "\n",
      "  warnings.warn(ARIMA_DEPRECATION_WARN, FutureWarning)\n",
      "C:\\Users\\user\\anaconda3\\lib\\site-packages\\statsmodels\\tsa\\base\\tsa_model.py:524: ValueWarning: No frequency information was provided, so inferred frequency D will be used.\n",
      "  warnings.warn('No frequency information was'\n"
     ]
    }
   ],
   "source": [
    "birth_model= ARIMA(birth_train,order=(2,0,3))"
   ]
  },
  {
   "cell_type": "code",
   "execution_count": 152,
   "metadata": {},
   "outputs": [],
   "source": [
    "birth_model_fit= birth_model.fit()"
   ]
  },
  {
   "cell_type": "code",
   "execution_count": 153,
   "metadata": {},
   "outputs": [
    {
     "data": {
      "text/plain": [
       "5629.975113315832"
      ]
     },
     "execution_count": 153,
     "metadata": {},
     "output_type": "execute_result"
    }
   ],
   "source": [
    "birth_model_fit.aic"
   ]
  },
  {
   "cell_type": "code",
   "execution_count": 155,
   "metadata": {},
   "outputs": [],
   "source": [
    "birth_forecast= birth_model_fit.forecast(steps=35)[0]"
   ]
  },
  {
   "cell_type": "code",
   "execution_count": 156,
   "metadata": {
    "scrolled": true
   },
   "outputs": [
    {
     "data": {
      "text/plain": [
       "array([ 9169.45402461, 12269.38850232, 11687.32066425, 10617.32683941,\n",
       "        9863.8104727 ,  9935.38665105, 10708.7759519 , 11571.95011487,\n",
       "       11902.62418944, 11512.10291973, 10741.58526346, 10172.84366728,\n",
       "       10193.02429482, 10736.13511847, 11369.74347924, 11634.9086646 ,\n",
       "       11375.18326117, 10821.45584944, 10393.64728836, 10385.23646624,\n",
       "       10765.4441716 , 11229.56774863, 11439.88404043, 11268.93805521,\n",
       "       10871.83345885, 10551.05835242, 10528.25158686, 10793.52608607,\n",
       "       11132.80304207, 11298.0951386 , 11186.99839815, 10902.82170182,\n",
       "       10663.01710851, 10634.38954513, 10818.80370137])"
      ]
     },
     "execution_count": 156,
     "metadata": {},
     "output_type": "execute_result"
    }
   ],
   "source": [
    "birth_forecast"
   ]
  },
  {
   "cell_type": "code",
   "execution_count": 157,
   "metadata": {},
   "outputs": [
    {
     "data": {
      "text/html": [
       "<div>\n",
       "<style scoped>\n",
       "    .dataframe tbody tr th:only-of-type {\n",
       "        vertical-align: middle;\n",
       "    }\n",
       "\n",
       "    .dataframe tbody tr th {\n",
       "        vertical-align: top;\n",
       "    }\n",
       "\n",
       "    .dataframe thead th {\n",
       "        text-align: right;\n",
       "    }\n",
       "</style>\n",
       "<table border=\"1\" class=\"dataframe\">\n",
       "  <thead>\n",
       "    <tr style=\"text-align: right;\">\n",
       "      <th></th>\n",
       "      <th>births</th>\n",
       "    </tr>\n",
       "    <tr>\n",
       "      <th>date</th>\n",
       "      <th></th>\n",
       "    </tr>\n",
       "  </thead>\n",
       "  <tbody>\n",
       "    <tr>\n",
       "      <th>2015-11-27</th>\n",
       "      <td>8942</td>\n",
       "    </tr>\n",
       "    <tr>\n",
       "      <th>2015-11-28</th>\n",
       "      <td>7734</td>\n",
       "    </tr>\n",
       "    <tr>\n",
       "      <th>2015-11-29</th>\n",
       "      <td>7230</td>\n",
       "    </tr>\n",
       "    <tr>\n",
       "      <th>2015-11-30</th>\n",
       "      <td>12214</td>\n",
       "    </tr>\n",
       "    <tr>\n",
       "      <th>2015-12-01</th>\n",
       "      <td>13185</td>\n",
       "    </tr>\n",
       "    <tr>\n",
       "      <th>2015-12-02</th>\n",
       "      <td>12708</td>\n",
       "    </tr>\n",
       "    <tr>\n",
       "      <th>2015-12-03</th>\n",
       "      <td>12281</td>\n",
       "    </tr>\n",
       "    <tr>\n",
       "      <th>2015-12-04</th>\n",
       "      <td>11828</td>\n",
       "    </tr>\n",
       "    <tr>\n",
       "      <th>2015-12-05</th>\n",
       "      <td>8262</td>\n",
       "    </tr>\n",
       "    <tr>\n",
       "      <th>2015-12-06</th>\n",
       "      <td>7194</td>\n",
       "    </tr>\n",
       "    <tr>\n",
       "      <th>2015-12-07</th>\n",
       "      <td>11567</td>\n",
       "    </tr>\n",
       "    <tr>\n",
       "      <th>2015-12-08</th>\n",
       "      <td>12328</td>\n",
       "    </tr>\n",
       "    <tr>\n",
       "      <th>2015-12-09</th>\n",
       "      <td>11857</td>\n",
       "    </tr>\n",
       "    <tr>\n",
       "      <th>2015-12-10</th>\n",
       "      <td>12259</td>\n",
       "    </tr>\n",
       "    <tr>\n",
       "      <th>2015-12-11</th>\n",
       "      <td>11406</td>\n",
       "    </tr>\n",
       "    <tr>\n",
       "      <th>2015-12-12</th>\n",
       "      <td>8073</td>\n",
       "    </tr>\n",
       "    <tr>\n",
       "      <th>2015-12-13</th>\n",
       "      <td>7262</td>\n",
       "    </tr>\n",
       "    <tr>\n",
       "      <th>2015-12-14</th>\n",
       "      <td>11753</td>\n",
       "    </tr>\n",
       "    <tr>\n",
       "      <th>2015-12-15</th>\n",
       "      <td>12437</td>\n",
       "    </tr>\n",
       "    <tr>\n",
       "      <th>2015-12-16</th>\n",
       "      <td>12282</td>\n",
       "    </tr>\n",
       "    <tr>\n",
       "      <th>2015-12-17</th>\n",
       "      <td>12339</td>\n",
       "    </tr>\n",
       "    <tr>\n",
       "      <th>2015-12-18</th>\n",
       "      <td>12247</td>\n",
       "    </tr>\n",
       "    <tr>\n",
       "      <th>2015-12-19</th>\n",
       "      <td>8368</td>\n",
       "    </tr>\n",
       "    <tr>\n",
       "      <th>2015-12-20</th>\n",
       "      <td>7361</td>\n",
       "    </tr>\n",
       "    <tr>\n",
       "      <th>2015-12-21</th>\n",
       "      <td>12692</td>\n",
       "    </tr>\n",
       "    <tr>\n",
       "      <th>2015-12-22</th>\n",
       "      <td>13131</td>\n",
       "    </tr>\n",
       "    <tr>\n",
       "      <th>2015-12-23</th>\n",
       "      <td>11595</td>\n",
       "    </tr>\n",
       "    <tr>\n",
       "      <th>2015-12-24</th>\n",
       "      <td>8714</td>\n",
       "    </tr>\n",
       "    <tr>\n",
       "      <th>2015-12-25</th>\n",
       "      <td>6515</td>\n",
       "    </tr>\n",
       "    <tr>\n",
       "      <th>2015-12-26</th>\n",
       "      <td>7294</td>\n",
       "    </tr>\n",
       "    <tr>\n",
       "      <th>2015-12-27</th>\n",
       "      <td>7518</td>\n",
       "    </tr>\n",
       "    <tr>\n",
       "      <th>2015-12-28</th>\n",
       "      <td>13100</td>\n",
       "    </tr>\n",
       "    <tr>\n",
       "      <th>2015-12-29</th>\n",
       "      <td>13458</td>\n",
       "    </tr>\n",
       "    <tr>\n",
       "      <th>2015-12-30</th>\n",
       "      <td>13100</td>\n",
       "    </tr>\n",
       "    <tr>\n",
       "      <th>2015-12-31</th>\n",
       "      <td>11608</td>\n",
       "    </tr>\n",
       "  </tbody>\n",
       "</table>\n",
       "</div>"
      ],
      "text/plain": [
       "            births\n",
       "date              \n",
       "2015-11-27    8942\n",
       "2015-11-28    7734\n",
       "2015-11-29    7230\n",
       "2015-11-30   12214\n",
       "2015-12-01   13185\n",
       "2015-12-02   12708\n",
       "2015-12-03   12281\n",
       "2015-12-04   11828\n",
       "2015-12-05    8262\n",
       "2015-12-06    7194\n",
       "2015-12-07   11567\n",
       "2015-12-08   12328\n",
       "2015-12-09   11857\n",
       "2015-12-10   12259\n",
       "2015-12-11   11406\n",
       "2015-12-12    8073\n",
       "2015-12-13    7262\n",
       "2015-12-14   11753\n",
       "2015-12-15   12437\n",
       "2015-12-16   12282\n",
       "2015-12-17   12339\n",
       "2015-12-18   12247\n",
       "2015-12-19    8368\n",
       "2015-12-20    7361\n",
       "2015-12-21   12692\n",
       "2015-12-22   13131\n",
       "2015-12-23   11595\n",
       "2015-12-24    8714\n",
       "2015-12-25    6515\n",
       "2015-12-26    7294\n",
       "2015-12-27    7518\n",
       "2015-12-28   13100\n",
       "2015-12-29   13458\n",
       "2015-12-30   13100\n",
       "2015-12-31   11608"
      ]
     },
     "execution_count": 157,
     "metadata": {},
     "output_type": "execute_result"
    }
   ],
   "source": [
    "birth_test"
   ]
  },
  {
   "cell_type": "code",
   "execution_count": 158,
   "metadata": {},
   "outputs": [
    {
     "data": {
      "text/plain": [
       "2718.54243660978"
      ]
     },
     "execution_count": 158,
     "metadata": {},
     "output_type": "execute_result"
    }
   ],
   "source": [
    "np.sqrt(mean_squared_error(birth_test,birth_forecast))"
   ]
  },
  {
   "cell_type": "code",
   "execution_count": null,
   "metadata": {},
   "outputs": [],
   "source": []
  }
 ],
 "metadata": {
  "kernelspec": {
   "display_name": "Python 3",
   "language": "python",
   "name": "python3"
  },
  "language_info": {
   "codemirror_mode": {
    "name": "ipython",
    "version": 3
   },
   "file_extension": ".py",
   "mimetype": "text/x-python",
   "name": "python",
   "nbconvert_exporter": "python",
   "pygments_lexer": "ipython3",
   "version": "3.8.5"
  }
 },
 "nbformat": 4,
 "nbformat_minor": 4
}
